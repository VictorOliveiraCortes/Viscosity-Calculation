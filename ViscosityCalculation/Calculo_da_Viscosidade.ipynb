{
 "cells": [
  {
   "cell_type": "markdown",
   "metadata": {
    "slideshow": {
     "slide_type": "slide"
    }
   },
   "source": [
    "# Cálculo da Viscosidade\n",
    "\n",
    "Por *Victor Côrtes* e *Mariana Hoyer*"
   ]
  },
  {
   "cell_type": "markdown",
   "metadata": {
    "slideshow": {
     "slide_type": "slide"
    }
   },
   "source": [
    "# Sumário\n",
    "\n",
    "[Objetivo](#Objetivo:)\n",
    "\n",
    "[Importando bibliotecas](#Importando-bibliotecas)\n",
    "\n",
    "[A Simulação de dinâmica molecular](#A-Simulação-de-dinâmica-molecular)\n",
    "\n",
    "[Implementação do Método Maginn para calcular a Viscosidade](#Implementação-do-Método-Maginn-para-calcular-a-Viscosidade)\n",
    "\n",
    "[Método de Decomposição do Tempo para o Cálculo de Viscosidade.](#Método-de-Decomposição-do-Tempo-para-o-Cálculo-de-Viscosidade.)\n",
    "    \n",
    "   - [Procedimento de 5 etapas para o Cálculo da Viscosidade pelo Método Maginn](#Procedimento-de-5-etapas-para-o-C%C3%A1lculo-da-Viscosidade-pelo-M%C3%A9todo-Maginn)\n",
    "\n",
    "     1. [Gerar N trajetórias NVT independentes em uma dada temperatura](#(1)-Gerar-N-trajet%C3%B3rias-NVT-independentes-em-uma-dada-temperatura:);\n",
    "\n",
    "     1. [Para cada trajetória, calcule a viscosidade de cisalhamento com base na relação Green-Kubo (eq 1)](#(2)-Para-cada-trajet%C3%B3ria,-calcule-a-viscosidade-de-cisalhamento-com-base-na-rela%C3%A7%C3%A3o-Green-Kubo-(eq-1):);\n",
    "\n",
    "     1. [Calcular a média das integrais em execução sobre N trajetórias ⟨$\\eta$(t)⟩ e o desvio padrão, que é uma função do tempo](#(3)-Calcular-a-m%C3%A9dia-das-integrais-em-execu%C3%A7%C3%A3o-sobre-N-trajet%C3%B3rias-%E2%9F%A8$\\eta$(t)%E2%9F%A9-e-o-desvio-padr%C3%A3o,-que-%C3%A9-uma-fun%C3%A7%C3%A3o-do-tempo:);\n",
    "         - [Viscosidade Média](#Viscosidade-Média)\n",
    "         - [Desvio Padrão](#Desvio-Padrão)\n",
    "\n",
    "     1. [Ajuste o desvio padrão para uma função de lei de potência:](#(4)-Ajuste-o-desvio-padrão-para-uma-função-de-lei-de-potência:)\n",
    "\n",
    "        \\begin{equation}\n",
    "            \\sigma(t) = At^{b}\n",
    "        \\end{equation}\n",
    "\n",
    "     1. [Ajustar a integral média em execução pela função dupla - exponencial (eq2) para o período de tempo até $t_{cut}$, que pode ser decidido a partir da relação entre $ \\eta$ e $ \\sigma(t) $. Descobrimos que o tempo em que $ \\sigma(t)$ é cerca de 40% de $<\\eta(t)>$ é uma boa escolha. Pegue o valor do limite com tempo tendendo a infinito da função double-exponencial ajustada como a viscosidade calculada](#(5)-Ajustar-a-integral-média-em-execução-pela-função-dupla---exponencial-(eq2)-para-o-período-de-tempo-até-$t_{cut}$,-que-pode-ser-decidido-a-partir-da-relação-entre-$-\\eta$-e-$-\\sigma(t)-$.-Descobrimos-que-o-tempo-em-que-$-\\sigma(t)$-é-cerca-de-40%-de-$<\\eta(t)>$-é-uma-boa-escolha.-Pegue-o-valor-do-limite-com-tempo-tendendo-a-infinito-da-função-double-exponencial-ajustada-a-viscosidade-calculada:);      \n",
    "         - [Função Double-Exponencial](#Função-Double-Exponencial)\n",
    "         - [Tempo $t_{cut}$](#Tempo-$t_{cut}:$)\n",
    "         - [Conclusão](#Conclusão:)\n",
    "     1. [Variação da Viscosidade Calculada e do erro conforme a variação da tolerância do desvio padrão](#Varia%C3%A7%C3%A3o-da-Viscosidade-Calculada-e-do-erro-conforme-a-varia%C3%A7%C3%A3o-da-toler%C3%A2ncia-do-desvio-padr%C3%A3o)\n",
    "         - [Conclusão Otimizada](#Conclusão-Otimizada)"
   ]
  },
  {
   "cell_type": "markdown",
   "metadata": {
    "slideshow": {
     "slide_type": "slide"
    }
   },
   "source": [
    "\n",
    "## Objetivo: \n",
    "\n",
    "Implementar um método de cálculo de viscosidade para calcular a do [Deep eutectic solvent](https://en.wikipedia.org/wiki/Deep_eutectic_solvent), usando:\n",
    "\n",
    "- dados obtidos do [GROMACS](http://www.gromacs.org/) de simulações por dinâmica molecular de um sistema químico composto por Dodecanoato de sódio e ácido decanóico; \n",
    "- e a Metodologia Maginn apresentada no artigo *Reliable Viscosity Calculation from Equilibrium Molecular Dynamics Simulations: A Time Decomposition Method (DOI:10.1021/acs.jctc.5b00351)* para calcular a viscosidade de sistemas simulados."
   ]
  },
  {
   "cell_type": "markdown",
   "metadata": {
    "slideshow": {
     "slide_type": "slide"
    }
   },
   "source": [
    "## Importando bibliotecas"
   ]
  },
  {
   "cell_type": "code",
   "execution_count": null,
   "metadata": {
    "slideshow": {
     "slide_type": "subslide"
    }
   },
   "outputs": [],
   "source": [
    "import numpy as np\n",
    "import matplotlib.pyplot as plt\n",
    "from scipy.integrate import odeint\n",
    "from scipy.integrate import simps\n",
    "from scipy.optimize import curve_fit\n",
    "from os import path\n",
    "from IPython.display import Image, HTML\n",
    "import logging\n",
    "logger = logging.getLogger('ftpuploader')"
   ]
  },
  {
   "cell_type": "markdown",
   "metadata": {
    "slideshow": {
     "slide_type": "fragment"
    }
   },
   "source": [
    "## A Simulação de dinâmica molecular\n",
    "\n",
    "De acordo com a dissertação *Modelação e simulação de sistemas envolvendo Deep Eutectic Solvents\n",
    "e água – Estrutura, propriedades e extração de poluentes*, de Mariana Hoyer:\n",
    "\n",
    "\"*A escolha do método de simulação a ser aplicado depende principalmente do fenômeno a ser investigado e do sistema. Em simulações de sistemas líquidos, é preferível escolher simulação de dinâmica molecular, pois as conformações do sistema podem ser obtidas pela troca de energia decorrente das moléculas que colidem. Se a preferência fosse pelo método Monte Carlo, haveria uma elevada probabilidade de os movimentos aleatórios ocasionarem sobreposição de partículas, gerando muitas rejeições de movimentos e consequentemente, perda de eficiência da simulação. Além disso, para o cálculo de propriedades como viscosidade de um líquido, somente o método de dinâmica molecular é apropriado, porque diferentemente do método Monte Carlo, o tempo de simulação pode ser definido, possibilitando a obtenção de propriedades dependentes do tempo.*\n",
    "\n",
    "\"*As simulações de dinâmica molecular necessitam passar por uma etapa de minimização de energia para relaxação do sistema, evitando que a simulação comece muito distante do equilíbrio, o que poderia levar a um colapso do sistema. As equações\n",
    "de Newton do movimento (1 e 2) são utilizadas para determinação das configurações dos sistemas com N átomos que interajam entre si:*\n",
    "\n",
    "\\begin{equation}\n",
    "    m_i \\frac{\\partial^{2}r_i}{\\partial t^2} = F_i, \\quad i=1, ... ,N \n",
    "\\end{equation}\n",
    "\n",
    "\\begin{equation}\n",
    "    F_i = - \\frac{\\partial V}{\\partial r_i} (2)\n",
    "\\end{equation}\n",
    "\n",
    "\" *Onde as forças são as derivadas negativas da função potencial V(r1, ...,rN).*\n",
    "\n",
    "\"*No decurso da simulação, as equações são resolvidas simultaneamente em pequenos passos de tempo, gerando coordenadas e velocidades ao longo dos intervalos regulares definidos. O conjunto de coordenadas e velocidades em função do tempo é denominado **trajetória** de uma simulação, sendo registada num ficheiro de saída apropriado. A escolha do passo de tempo adequado é importante para levar o sistema a uma configuração correta de equilíbrio, pois um passo muito curto torna a simulação demorada e um passo demasiado longo faz com que os cálculos das equações de Newton se desviem muito do que seria a solução de uma trajetória clássica correta e não se respeite o princípio da conservação de energia. Após atingir o estado de equilíbrio, é possível calcular várias propriedades macroscópicas do sistema pelas médias dos resultados gerados ao longo da trajetória subsequente.*\""
   ]
  },
  {
   "cell_type": "markdown",
   "metadata": {
    "slideshow": {
     "slide_type": "slide"
    }
   },
   "source": [
    "**Trajetórias** correspondentes a diferentes simulações para um dado sistema não serão\n",
    "iguais umas às outras. Isto ocorre porque cada simulação, a partir da sua própria\n",
    "configuração inicial, percorrerá um caminho distinto, resultando num conjunto de\n",
    "trajetórias divergentes, mesmo que a composição inicial do sistema seja a mesma. Ao\n",
    "criar um sistema, as moléculas são inseridas de maneira aleatória, ocasionando em\n",
    "configurações iniciais diferentes a cada vez que uma caixa é criada. Sendo assim, a fim\n",
    "de se obter resultados estatisticamente relevantes, mais de uma trajetória é adquirida para\n",
    "um dado sistema e os cálculos são feitos com a média das trajetórias"
   ]
  },
  {
   "cell_type": "markdown",
   "metadata": {
    "slideshow": {
     "slide_type": "fragment"
    }
   },
   "source": [
    "As condições periódicas de fronteira, apesar de serem uma limitação do método,\n",
    "são aplicadas para minimizar efeitos de superfície em um sistema finito [29]. A caixa\n",
    "contendo os átomos do sistema a ser simulado é rodeado por cópias transladadas de sua\n",
    "própria caixa, conforme ilustrado na figura abaixo."
   ]
  },
  {
   "cell_type": "code",
   "execution_count": null,
   "metadata": {
    "slideshow": {
     "slide_type": "fragment"
    }
   },
   "outputs": [],
   "source": [
    "Image(\"Images/simulacao_3.png\")"
   ]
  },
  {
   "cell_type": "code",
   "execution_count": null,
   "metadata": {
    "slideshow": {
     "slide_type": "subslide"
    }
   },
   "outputs": [],
   "source": [
    "Image(\"Images/simulacao_1.png\")"
   ]
  },
  {
   "cell_type": "code",
   "execution_count": null,
   "metadata": {
    "slideshow": {
     "slide_type": "subslide"
    }
   },
   "outputs": [],
   "source": [
    "Image(\"Images/simulacao_2.png\")"
   ]
  },
  {
   "cell_type": "markdown",
   "metadata": {
    "slideshow": {
     "slide_type": "slide"
    }
   },
   "source": [
    "A simulação nos fornece os seis [tensores](https://pt.wikipedia.org/wiki/Tensor) correspondentes a cada trajetória, de coordenadas $[xx,xy,xz,yy,yz,zz]$\n",
    "\n",
    "Eles serão usados pelo método que iremos implementar"
   ]
  },
  {
   "cell_type": "code",
   "execution_count": null,
   "metadata": {
    "slideshow": {
     "slide_type": "fragment"
    }
   },
   "outputs": [],
   "source": [
    "Image(\"Images/370px-Components_stress_tensor_cartesian.png\")"
   ]
  },
  {
   "cell_type": "markdown",
   "metadata": {
    "slideshow": {
     "slide_type": "slide"
    }
   },
   "source": [
    "## Implementação do Método Maginn para calcular a Viscosidade\n",
    "\n",
    "Usaremos a Metodologia Maginn apresentada no artigo Reliable Viscosity Calculation from Equilibrium Molecular Dynamics Simulations: A Time Decomposition Method (DOI:10.1021/acs.jctc.5b00351) para calcular a viscosidade desses sistemas simulados."
   ]
  },
  {
   "cell_type": "code",
   "execution_count": null,
   "metadata": {
    "slideshow": {
     "slide_type": "fragment"
    }
   },
   "outputs": [],
   "source": [
    "Image(\"Images/primeira_pagina_do_artigo.png\")"
   ]
  },
  {
   "cell_type": "code",
   "execution_count": null,
   "metadata": {
    "scrolled": true,
    "slideshow": {
     "slide_type": "slide"
    }
   },
   "outputs": [],
   "source": [
    "Image(\"Images/primeira_pagina_do_artigo_p1.png\")"
   ]
  },
  {
   "cell_type": "markdown",
   "metadata": {
    "slideshow": {
     "slide_type": "slide"
    }
   },
   "source": [
    "## Método de Decomposição do Tempo para o Cálculo de Viscosidade.\n",
    "\n",
    "A viscosidade de cisalhamento foi calculada seguindo o procedimento abaixo:"
   ]
  },
  {
   "cell_type": "markdown",
   "metadata": {
    "slideshow": {
     "slide_type": "fragment"
    }
   },
   "source": [
    "### Procedimento de 5 etapas para o Cálculo da Viscosidade pelo Método Maginn\n",
    "\n",
    "As 5 etapas são:\n",
    "\n",
    " 1. [Gerar N trajetórias NVT independentes em uma dada temperatura](#(1)-Gerar-N-trajet%C3%B3rias-NVT-independentes-em-uma-dada-temperatura:);\n",
    " \n",
    " 1. [Para cada trajetória, calcule a viscosidade de cisalhamento com base na relação Green-Kubo (eq 1)](#(2)-Para-cada-trajet%C3%B3ria,-calcule-a-viscosidade-de-cisalhamento-com-base-na-rela%C3%A7%C3%A3o-Green-Kubo-(eq-1):);\n",
    " \n",
    " 1. [Calcular a média das integrais em execução sobre N trajetórias ⟨$\\eta$(t)⟩ e o desvio padrão, que é uma função do tempo](#(3)-Calcular-a-m%C3%A9dia-das-integrais-em-execu%C3%A7%C3%A3o-sobre-N-trajet%C3%B3rias-%E2%9F%A8$\\eta$(t)%E2%9F%A9-e-o-desvio-padr%C3%A3o,-que-%C3%A9-uma-fun%C3%A7%C3%A3o-do-tempo:);\n",
    "\n",
    " 1. [Ajuste o desvio padrão para uma função de lei de potência:](#(4)-Ajuste-o-desvio-padrão-para-uma-função-de-lei-de-potência:)\n",
    "\n",
    "    \\begin{equation}\n",
    "        \\sigma(t) = At^{b}\n",
    "    \\end{equation}\n",
    "\n",
    " 1. [Ajustar a integral média em execução pela função dupla - exponencial (eq2) para o período de tempo até $t_{cut}$, que pode ser decidido a partir da relação entre $ \\eta$ e $ \\sigma(t) $. Descobrimos que o tempo em que $ \\sigma(t)$ é cerca de 40% de $<\\eta(t)>$ é uma boa escolha. Pegue o valor do limite com tempo tendendo a infinito da função double-exponencial ajustada como a viscosidade calculada](#(5)-Ajustar-a-integral-média-em-execução-pela-função-dupla---exponencial-(eq2)-para-o-período-de-tempo-até-$t_{cut}$,-que-pode-ser-decidido-a-partir-da-relação-entre-$-\\eta$-e-$-\\sigma(t)-$.-Descobrimos-que-o-tempo-em-que-$-\\sigma(t)$-é-cerca-de-40%-de-$<\\eta(t)>$-é-uma-boa-escolha.-Pegue-o-valor-do-limite-com-tempo-tendendo-a-infinito-da-função-double-exponencial-ajustada-a-viscosidade-calculada:);\n",
    " \n",
    " "
   ]
  },
  {
   "cell_type": "markdown",
   "metadata": {
    "slideshow": {
     "slide_type": "slide"
    }
   },
   "source": [
    "#### (1) Gerar N trajetórias NVT independentes em uma dada temperatura:\n",
    "\n",
    "[Voltar ao índice das etapas](#Procedimento-de-5-etapas-para-o-Cálculo-da-Viscosidade-pelo-Método-Maginn)\n",
    "\n",
    "Primeiro importaremos as trajetórias, provenientes das simulações do GROMACS, que serão usadas e selecionaremos quais são válidas para o cálculo da viscosidade.\n",
    "\n",
    "No final das 5 etapas, o valor da viscosidade será o valor para o qual a média das integrais dos dados convergir(veremos o porquê disso mais a frente). Para que a integral convirja, os valores dos dados devem converjir para 0.\n",
    "\n",
    "Então verificaremos quais dessas trajetórias  possuem valores que convergem para 0 e quais não convergem.\n",
    "\n",
    "**Obs:** consideraremos que o valor da trajetória convergiu para 0 quando seus valores oscilam ao redor de 0 ao longo do tempo."
   ]
  },
  {
   "cell_type": "code",
   "execution_count": null,
   "metadata": {
    "slideshow": {
     "slide_type": "slide"
    }
   },
   "outputs": [],
   "source": [
    "coordinates = ['xx','xy','xz','yy','yz','zz']\n",
    "trajs = np.array([1,2,3,4,5,6,7,8]) #range(1,9)\n",
    "n0_trajs = len(trajs)\n",
    "filename_std = \"DES_autocorr_p{}_{}.xvg\"\n",
    "\n",
    "V,kb,T = 169*1e-27, 1.380648*1e-23, 313.15"
   ]
  },
  {
   "cell_type": "markdown",
   "metadata": {
    "slideshow": {
     "slide_type": "fragment"
    }
   },
   "source": [
    "Em que:\n",
    "\n",
    "- $coordinates:$ coordenadas dos tensores das simulações;\n",
    "- $trajs:$ lista de números corres;\n",
    "- $n_0\\_trajs:$ número inicial de trajetórias\n",
    "- $filename\\_std:$ padrão de nome dos arquivos de dados\n",
    "\n",
    "E, em SI(Sistema Internacioal de unidades)\n",
    "- $V:$  Volume do sistema; \n",
    "- $k_b:$ constante de Boltzmann;\n",
    "- $T:$ temperatura do sistema;\n",
    "\n"
   ]
  },
  {
   "cell_type": "code",
   "execution_count": null,
   "metadata": {
    "slideshow": {
     "slide_type": "slide"
    }
   },
   "outputs": [],
   "source": [
    "def path_files(filename):\n",
    "    'Retorna o padrão do caminho para a pasta com os arquivos de dados'\n",
    "    return path.join('.', 'Data', filename)"
   ]
  },
  {
   "cell_type": "code",
   "execution_count": null,
   "metadata": {
    "scrolled": true,
    "slideshow": {
     "slide_type": "slide"
    }
   },
   "outputs": [],
   "source": [
    "x_averages, y_averages = [], []\n",
    "n = 0\n",
    "filename = path_files(filename_std)\n",
    "\n",
    "print('Extracting data from trajectories...')\n",
    "for i in trajs:\n",
    "    print('\\nTrajectorie {}:'.format(i))\n",
    "    xs, ys = [], []\n",
    "    for coor in coordinates:\n",
    "        print('\\ttensor coordinates',coor)\n",
    "        x, y = [], []\n",
    "        try:\n",
    "            #if (type(i)==int or type(i)==float) or type(i)==np.int32 and i <10:\n",
    "            if i< 10:\n",
    "                i = '0{}'.format(i)\n",
    "        except:\n",
    "            pass\n",
    "\n",
    "\n",
    "\n",
    "        with open(filename.format(coor,i)) as f:\n",
    "            n += 1\n",
    "            for line in f:\n",
    "                cols = line.split()\n",
    "\n",
    "                if len(cols) == 2:\n",
    "                    try:\n",
    "                        x.append(float(cols[0]))\n",
    "                        y.append(float(cols[1]))\n",
    "                    except ValueError as e:\n",
    "                        continue\n",
    "\n",
    "            xs.append(np.array(x))\n",
    "            ys.append(np.array(y))\n",
    "\n",
    "    xs = np.array(xs)\n",
    "    ys = np.array(ys)\n",
    "\n",
    "    x_averages.append(xs[0])\n",
    "    y_averages.append(np.average(ys,axis=0))\n",
    "\n",
    "x_averages = (np.array(x_averages))*1e-12\n",
    "y_averages = (np.array(y_averages))*1e+10\n"
   ]
  },
  {
   "cell_type": "code",
   "execution_count": null,
   "metadata": {
    "slideshow": {
     "slide_type": "notes"
    }
   },
   "outputs": [],
   "source": [
    "x_averages.shape"
   ]
  },
  {
   "cell_type": "markdown",
   "metadata": {
    "slideshow": {
     "slide_type": "slide"
    }
   },
   "source": [
    "Agora plotaremos os dados para visualizá-los e analisá-los."
   ]
  },
  {
   "cell_type": "code",
   "execution_count": null,
   "metadata": {
    "slideshow": {
     "slide_type": "fragment"
    }
   },
   "outputs": [],
   "source": [
    "n_traj = len(x_averages)\n",
    "fig, ax = plt.subplots(nrows=n_traj, ncols=1, figsize=(18,6*n_traj))\n",
    "plt.rcParams['agg.path.chunksize'] = 10000\n",
    "for i in range(n_traj):\n",
    "    ax[i].plot(x_averages[i],y_averages[i])\n",
    "    ax[i].set_title('Média dos Tnsores de da Trajetória {}'.format(trajs[i]))\n",
    "plt.show()"
   ]
  },
  {
   "cell_type": "markdown",
   "metadata": {
    "slideshow": {
     "slide_type": "slide"
    }
   },
   "source": [
    "Olhando em escala normal parece que todas convergem, mas vamos examiná-las em escala logarítmica."
   ]
  },
  {
   "cell_type": "code",
   "execution_count": null,
   "metadata": {
    "slideshow": {
     "slide_type": "fragment"
    }
   },
   "outputs": [],
   "source": [
    "n_traj = len(x_averages)\n",
    "fig, ax = plt.subplots(nrows=n_traj, ncols=1, figsize=(18,6*n_traj))\n",
    "plt.rcParams['agg.path.chunksize'] = 10000\n",
    "for i in range(n_traj):\n",
    "    ax[i].semilogy(x_averages[i], y_averages[i])\n",
    "    ax[i].set_title('Média da Trajetória {}'.format(trajs[i]))\n",
    "plt.show()"
   ]
  },
  {
   "cell_type": "markdown",
   "metadata": {
    "slideshow": {
     "slide_type": "slide"
    }
   },
   "source": [
    "Nessa escala podemos ver que as trajetórias $2$ e $4$ não convergem, pois seus valores não estão oscilando em torno de $0$, estão oscilando em torno de algum valor maior que $0$. Então descartaremos estas."
   ]
  },
  {
   "cell_type": "code",
   "execution_count": null,
   "metadata": {
    "slideshow": {
     "slide_type": "fragment"
    }
   },
   "outputs": [],
   "source": [
    "trajs_list = list(trajs)\n",
    "try:\n",
    "    assert len(trajs) == len(x_averages)\n",
    "    assert len(trajs) == n0_trajs\n",
    "    indices_descarte = [trajs_list.index(2), trajs_list.index(4)]\n",
    "\n",
    "    trajs = np.delete(trajs, indices_descarte)\n",
    "    x_averages = np.delete(x_averages,indices_descarte,axis=0)\n",
    "    y_averages = np.delete(y_averages,indices_descarte,axis=0)\n",
    "except Exception as e:\n",
    "    logger.error('Essas trajetórias já foram retiradas: '+str(e))"
   ]
  },
  {
   "cell_type": "code",
   "execution_count": null,
   "metadata": {
    "slideshow": {
     "slide_type": "slide"
    }
   },
   "outputs": [],
   "source": [
    "print('Usaremos apenas as trajetórias',trajs,'. Pois foram as únicas que convergiram.')"
   ]
  },
  {
   "cell_type": "markdown",
   "metadata": {
    "slideshow": {
     "slide_type": "fragment"
    }
   },
   "source": [
    "Abaixo, os gráficos das trajetórias que usaremos."
   ]
  },
  {
   "cell_type": "code",
   "execution_count": null,
   "metadata": {
    "slideshow": {
     "slide_type": "subslide"
    }
   },
   "outputs": [],
   "source": [
    "n_traj = len(x_averages)\n",
    "fig, ax = plt.subplots(nrows=n_traj, ncols=1, figsize=(18,6*n_traj))\n",
    "plt.rcParams['agg.path.chunksize'] = 10000\n",
    "for i in range(n_traj):\n",
    "    ax[i].semilogy(x_averages[i], y_averages[i])\n",
    "    ax[i].set_title('Média da Trajetória {}'.format(trajs[i]))\n",
    "plt.show()"
   ]
  },
  {
   "cell_type": "markdown",
   "metadata": {
    "slideshow": {
     "slide_type": "slide"
    }
   },
   "source": [
    "#### (2) Para cada trajetória, calcule a viscosidade de cisalhamento com base na relação Green-Kubo (eq 1):\n",
    "\n",
    "[Voltar ao índice das etapas](#Procedimento-de-5-etapas-para-o-Cálculo-da-Viscosidade-pelo-Método-Maginn)"
   ]
  },
  {
   "cell_type": "markdown",
   "metadata": {
    "slideshow": {
     "slide_type": "fragment"
    }
   },
   "source": [
    "A relação Green-Kubo é defenida como:"
   ]
  },
  {
   "cell_type": "code",
   "execution_count": null,
   "metadata": {
    "slideshow": {
     "slide_type": "fragment"
    }
   },
   "outputs": [],
   "source": [
    "Image(\"Images/primeira_pagina_do_artigo_p2.png\")"
   ]
  },
  {
   "cell_type": "markdown",
   "metadata": {
    "slideshow": {
     "slide_type": "fragment"
    }
   },
   "source": [
    "Em que:\n",
    "- $\\eta$ é a viscosidade;\n",
    "- $V$ é o Volume do sistema; \n",
    "- $k_b$ é a constante de Boltzmann;\n",
    "- $T$ é a temperatura do sistema;\n",
    "- $P_{\\alpha \\beta}$ denota o elemento $\\alpha \\beta$ do tensor de pressão, e o colchete angular indica a média do conjunto.\n",
    "\n",
    "Todos em SI(Sistema Internacioal de unidades)"
   ]
  },
  {
   "cell_type": "code",
   "execution_count": null,
   "metadata": {
    "slideshow": {
     "slide_type": "slide"
    }
   },
   "outputs": [],
   "source": [
    "def green_kubo(V,kb,T,xs,ys,step=1000):\n",
    "    N = [] \n",
    "    for i in range(1,len(xs),step):\n",
    "        I = simps(ys[:i],xs[:i])\n",
    "        \n",
    "        n = V/(kb*T) * I\n",
    "        n = n*1e+3 #convertendo de Pa.s para cP\n",
    "        N.append(n)\n",
    "    \n",
    "    return np.array(N)"
   ]
  },
  {
   "cell_type": "markdown",
   "metadata": {
    "slideshow": {
     "slide_type": "slide"
    }
   },
   "source": [
    "Vamos então usar essa relação para calcular a viscosidade de cada uma das trajetórias e colocar todas no array $N_s$"
   ]
  },
  {
   "cell_type": "code",
   "execution_count": null,
   "metadata": {
    "slideshow": {
     "slide_type": "fragment"
    }
   },
   "outputs": [],
   "source": [
    "# lista de viscosidades\n",
    "Ns = [] \n",
    "step=1000\n",
    "\n",
    "for i in range(len(trajs)):\n",
    "    ni = green_kubo(V,kb,T,x_averages[i],y_averages[i],step)\n",
    "    Ns.append(ni)\n",
    "    \n",
    "Ns = np.array(Ns)"
   ]
  },
  {
   "cell_type": "markdown",
   "metadata": {
    "slideshow": {
     "slide_type": "slide"
    }
   },
   "source": [
    "Plotando as viscosidades calculadas."
   ]
  },
  {
   "cell_type": "code",
   "execution_count": null,
   "metadata": {
    "slideshow": {
     "slide_type": "fragment"
    }
   },
   "outputs": [],
   "source": [
    "ts = x_averages[0][1::step]*1e+9\n",
    "\n",
    "plt.figure(figsize=(10,5))\n",
    "for i in range(len(Ns)):\n",
    "    plt.plot(ts,Ns[i],label='Trajetória {}'.format(trajs[i]))\n",
    "\n",
    "plt.title('Viscosidades pelo Método Equilíbrio')\n",
    "plt.xlabel('Time(ns)')\n",
    "plt.ylabel('\\u03B7 (cP)')\n",
    "plt.legend()\n",
    "plt.show()"
   ]
  },
  {
   "cell_type": "markdown",
   "metadata": {
    "slideshow": {
     "slide_type": "slide"
    }
   },
   "source": [
    "#### (3) Calcular a média das integrais em execução sobre N trajetórias ⟨$\\eta$(t)⟩ e o desvio padrão, que é uma função do tempo:\n",
    "\n",
    "[Voltar ao índice das etapas](#Procedimento-de-5-etapas-para-o-Cálculo-da-Viscosidade-pelo-Método-Maginn)"
   ]
  },
  {
   "cell_type": "markdown",
   "metadata": {
    "slideshow": {
     "slide_type": "slide"
    }
   },
   "source": [
    "##### Viscosidade Média"
   ]
  },
  {
   "cell_type": "code",
   "execution_count": null,
   "metadata": {
    "slideshow": {
     "slide_type": "fragment"
    }
   },
   "outputs": [],
   "source": [
    "#Viscosidade Média\n",
    "Ns_average = np.average(Ns,axis=0)"
   ]
  },
  {
   "cell_type": "markdown",
   "metadata": {
    "slideshow": {
     "slide_type": "slide"
    }
   },
   "source": [
    "Plotando as integrais das trajetórias e sua média"
   ]
  },
  {
   "cell_type": "code",
   "execution_count": null,
   "metadata": {
    "slideshow": {
     "slide_type": "fragment"
    }
   },
   "outputs": [],
   "source": [
    "plt.figure(figsize=(10,5))\n",
    "for i in range(len(Ns)):\n",
    "    plt.plot(ts,Ns[i],label='Trajetória {}'.format(trajs[i]))\n",
    "\n",
    "\n",
    "plt.plot(ts,Ns_average, 'black',label='Média das Trajetórias')\n",
    "plt.title('Viscosidades pelo Método Equilíbrio')\n",
    "plt.xlabel('Time(ns)')\n",
    "plt.ylabel('\\u03B7 (cP)')\n",
    "\n",
    "plt.legend()\n",
    "plt.show()"
   ]
  },
  {
   "cell_type": "markdown",
   "metadata": {
    "slideshow": {
     "slide_type": "slide"
    }
   },
   "source": [
    "##### Desvio Padrão"
   ]
  },
  {
   "cell_type": "code",
   "execution_count": null,
   "metadata": {
    "slideshow": {
     "slide_type": "fragment"
    }
   },
   "outputs": [],
   "source": [
    "#Calculo do desvio padrão\n",
    "st_des = np.std(Ns,axis=0)"
   ]
  },
  {
   "cell_type": "code",
   "execution_count": null,
   "metadata": {
    "scrolled": false,
    "slideshow": {
     "slide_type": "slide"
    }
   },
   "outputs": [],
   "source": [
    "plt.figure(figsize=(10,5))\n",
    "st_des_perc = st_des[1:]/Ns_average[1:]*100 #Porcentagem do Desvio Padrão\n",
    "plt.plot(ts[1:],st_des_perc)\n",
    "plt.xlabel('Time(ns)')\n",
    "plt.ylabel('(%)')\n",
    "plt.title('Pencertage Standart Deviation')\n",
    "\n",
    "plt.show()"
   ]
  },
  {
   "cell_type": "code",
   "execution_count": null,
   "metadata": {
    "slideshow": {
     "slide_type": "fragment"
    }
   },
   "outputs": [],
   "source": [
    "print('O Desvio Padrão percentual máximo dessa amostra é {0:.2f}%.'.format(max(st_des_perc)))"
   ]
  },
  {
   "cell_type": "code",
   "execution_count": null,
   "metadata": {
    "slideshow": {
     "slide_type": "slide"
    }
   },
   "outputs": [],
   "source": [
    "plt.figure(figsize=(12,6))\n",
    "plt.plot(ts,st_des)\n",
    "plt.xlabel('Time(ns)')\n",
    "plt.ylabel('Viscosity (cP)')\n",
    "plt.title('Absolute Standart Deviation')\n",
    "\n",
    "plt.show()"
   ]
  },
  {
   "cell_type": "code",
   "execution_count": null,
   "metadata": {
    "scrolled": true,
    "slideshow": {
     "slide_type": "slide"
    }
   },
   "outputs": [],
   "source": [
    "plt.figure(figsize=(10,5))\n",
    "plt.plot(ts,Ns_average,'black')\n",
    "plt.fill_between(ts,Ns_average - st_des, Ns_average + st_des,color='0.85')\n",
    "plt.title('Averange Viscosity with Standard Deviation')\n",
    "plt.xlabel('Time(ns)')\n",
    "#plt.ylabel('\\u03C1 (cP)')\n",
    "plt.ylabel('\\u03B7 (cP)')\n",
    "\n",
    "plt.show()"
   ]
  },
  {
   "cell_type": "code",
   "execution_count": null,
   "metadata": {
    "slideshow": {
     "slide_type": "slide"
    }
   },
   "outputs": [],
   "source": [
    "plt.figure(figsize=(10,5))\n",
    "for i in range(len(Ns)):\n",
    "    plt.plot(ts,Ns[i],label='Trajetória {}'.format(trajs[i]))\n",
    "\n",
    "plt.plot(ts,Ns_average, 'black',label='Média das Trajetórias')\n",
    "plt.fill_between(ts,Ns_average - st_des, Ns_average + st_des,color='0.85')\n",
    "plt.title('Viscosidades pelo Método Equilíbrio com o Desvio Padrão')\n",
    "plt.xlabel('Time(ns)')\n",
    "#plt.ylabel('\\u03C1 (cP)')\n",
    "plt.ylabel('\\u03B7 (cP)')\n",
    "\n",
    "plt.legend()\n",
    "plt.show()"
   ]
  },
  {
   "cell_type": "markdown",
   "metadata": {
    "slideshow": {
     "slide_type": "slide"
    }
   },
   "source": [
    "#### (4) Ajuste o desvio padrão para uma função de lei de potência:\n",
    "\n",
    "\\begin{equation}\n",
    "    \\sigma(t) = At^{b}\n",
    "\\end{equation}\n",
    "\n",
    "[Voltar ao índice das etapas](#Procedimento-de-5-etapas-para-o-Cálculo-da-Viscosidade-pelo-Método-Maginn)\n",
    "\n",
    "\n",
    "Usaremos esse ajuste na [etapa (5)]()"
   ]
  },
  {
   "cell_type": "code",
   "execution_count": null,
   "metadata": {
    "slideshow": {
     "slide_type": "fragment"
    }
   },
   "outputs": [],
   "source": [
    "def fit_desvio(t,A,b):\n",
    "    return A*t**b"
   ]
  },
  {
   "cell_type": "code",
   "execution_count": null,
   "metadata": {
    "slideshow": {
     "slide_type": "slide"
    }
   },
   "outputs": [],
   "source": [
    "# Encontrar os parâmetros do ajuste do desvio padrão usando o curve_fit\n",
    "res = curve_fit(fit_desvio,ts,st_des),\n",
    "res"
   ]
  },
  {
   "cell_type": "code",
   "execution_count": null,
   "metadata": {
    "slideshow": {
     "slide_type": "slide"
    }
   },
   "outputs": [],
   "source": [
    "A, b = res[0][0]\n",
    "fit_des = fit_desvio(ts,A,b)\n",
    "plt.figure(figsize=(10,5))\n",
    "plt.plot(ts,st_des,label='Real Standard Deviation')\n",
    "plt.plot(ts,fit_des,label='Fitted Standard Deviation')\n",
    "\n",
    "plt.title('Curve Fitting of Standard Deviation')\n",
    "plt.legend()\n",
    "plt.xlabel('Time(ns)')\n",
    "plt.ylabel('Standard Deviation (cP)')\n",
    "plt.show()"
   ]
  },
  {
   "cell_type": "markdown",
   "metadata": {
    "slideshow": {
     "slide_type": "slide"
    }
   },
   "source": [
    "##### (5) Ajustar a integral média em execução pela função dupla - exponencial (eq2) para o período de tempo até $t_{cut}$, que pode ser decidido a partir da relação entre $ \\eta$ e $ \\sigma(t) $. Descobrimos que o tempo em que $ \\sigma(t)$ é cerca de 40% de $<\\eta(t)>$ é uma boa escolha. Pegue o valor do limite com tempo tendendo a infinito da função double-exponencial ajustada a viscosidade calculada:\n",
    "\n",
    "Esse comentário sobre o desvio padrão de $40\\%$ é do autor do artigo.\n",
    "\n",
    "[Voltar ao índice das etapas](#Procedimento-de-5-etapas-para-o-Cálculo-da-Viscosidade-pelo-Método-Maginn)"
   ]
  },
  {
   "cell_type": "markdown",
   "metadata": {
    "slideshow": {
     "slide_type": "slide"
    }
   },
   "source": [
    "##### Função Double-Exponencial"
   ]
  },
  {
   "cell_type": "code",
   "execution_count": null,
   "metadata": {
    "slideshow": {
     "slide_type": "fragment"
    }
   },
   "outputs": [],
   "source": [
    "Image(\"Images/visc_fit.png\")"
   ]
  },
  {
   "cell_type": "code",
   "execution_count": null,
   "metadata": {
    "slideshow": {
     "slide_type": "fragment"
    }
   },
   "outputs": [],
   "source": [
    "def doubexp(x,A,alpha,tau1, tau2):\n",
    "    return A*alpha*tau1*(1-np.exp(-x/tau1))+A*(1-alpha)*tau2*(1-np.exp(-x/tau2))"
   ]
  },
  {
   "cell_type": "markdown",
   "metadata": {
    "slideshow": {
     "slide_type": "slide"
    }
   },
   "source": [
    "Viscosidade Calculada:"
   ]
  },
  {
   "cell_type": "code",
   "execution_count": null,
   "metadata": {
    "slideshow": {
     "slide_type": "fragment"
    }
   },
   "outputs": [],
   "source": [
    "visc = Ns_average"
   ]
  },
  {
   "cell_type": "code",
   "execution_count": null,
   "metadata": {
    "slideshow": {
     "slide_type": "fragment"
    }
   },
   "outputs": [],
   "source": [
    "len(visc)"
   ]
  },
  {
   "cell_type": "markdown",
   "metadata": {
    "slideshow": {
     "slide_type": "slide"
    }
   },
   "source": [
    "##### Tempo $t_{cut}:$\n",
    "\n",
    "É a marcação de tempo que escolhemos para manter o desvio padrão sobre controle. Como o desvio padrão dos dados tende a aumentar ao longo do tempo, determinamos qual a tolerância de desvio padrão que queremos usar (o autor recomendo $40\\%$ para casos gerais) e usaremos os dados até o momento em que o desvio possui o valor que determinamos, descartando os dados subsequentes, em que o desvio é maior. \n",
    "\n",
    "Depois de determinarmo do $t_{cut}$ vamos ajustar a [função double-exponencial](#Fun%C3%A7%C3%A3o-Double-Exponencial) a viscosidade média calculada.\n",
    "\n",
    "Como o desvio padrão oscila um pouco ao longo do tempo, determinaremos o $t_{cut}$ usando o [desvio padrão ajustado](#(4)-Ajuste-o-desvio-padrão-para-uma-função-de-lei-de-potência:), para ter uma maior estabilidade."
   ]
  },
  {
   "cell_type": "code",
   "execution_count": null,
   "metadata": {
    "slideshow": {
     "slide_type": "fragment"
    }
   },
   "outputs": [],
   "source": [
    "def time_cut(Ns_average, st_des, tol_std_perc=0.4):\n",
    "    foundcutoff = False\n",
    "    time_cut = 1\n",
    "    while not foundcutoff and time_cut<len(Ns_average):\n",
    "        if st_des[time_cut] > tol_std_perc*Ns_average[time_cut]:\n",
    "            foundcutoff = True\n",
    "        else:\n",
    "            time_cut += 1\n",
    "            \n",
    "    return time_cut"
   ]
  },
  {
   "cell_type": "code",
   "execution_count": null,
   "metadata": {
    "slideshow": {
     "slide_type": "slide"
    }
   },
   "outputs": [],
   "source": [
    "sigma = 0.4\n",
    "\n",
    "cut = time_cut(Ns_average, st_des, tol_std_perc=sigma)\n",
    "cut"
   ]
  },
  {
   "cell_type": "markdown",
   "metadata": {
    "slideshow": {
     "slide_type": "fragment"
    }
   },
   "source": [
    "Agora faremos o ajuste da função a viscosidade calculada"
   ]
  },
  {
   "cell_type": "code",
   "execution_count": null,
   "metadata": {
    "slideshow": {
     "slide_type": "fragment"
    }
   },
   "outputs": [],
   "source": [
    "popt3,pcov2 = curve_fit(doubexp, ts[1:cut],visc[1:cut],\n",
    "                                 sigma=st_des[1:cut],\n",
    "                                 bounds=(0,[np.inf,1,np.inf,np.inf]),maxfev=1000000)"
   ]
  },
  {
   "cell_type": "code",
   "execution_count": null,
   "metadata": {
    "slideshow": {
     "slide_type": "slide"
    }
   },
   "outputs": [],
   "source": [
    "popt3"
   ]
  },
  {
   "cell_type": "code",
   "execution_count": null,
   "metadata": {
    "scrolled": true,
    "slideshow": {
     "slide_type": "fragment"
    }
   },
   "outputs": [],
   "source": [
    "pcov2"
   ]
  },
  {
   "cell_type": "code",
   "execution_count": null,
   "metadata": {
    "slideshow": {
     "slide_type": "fragment"
    }
   },
   "outputs": [],
   "source": [
    "print('Os parâmetros do ajuste são', popt3)"
   ]
  },
  {
   "cell_type": "markdown",
   "metadata": {
    "slideshow": {
     "slide_type": "slide"
    }
   },
   "source": [
    "Agora, usaremos a função ajustada"
   ]
  },
  {
   "cell_type": "code",
   "execution_count": null,
   "metadata": {
    "slideshow": {
     "slide_type": "fragment"
    }
   },
   "outputs": [],
   "source": [
    "Image(\"Images/visc_fit.png\")"
   ]
  },
  {
   "cell_type": "markdown",
   "metadata": {
    "slideshow": {
     "slide_type": "fragment"
    }
   },
   "source": [
    "E para saber para qual valor essa função converge, calcularemos seu limite quando o tempo t tende ao infinito.\n",
    "\n",
    "O resultado da viscosidade nesse limite vale:"
   ]
  },
  {
   "cell_type": "markdown",
   "metadata": {
    "slideshow": {
     "slide_type": "fragment"
    }
   },
   "source": [
    "\\begin{equation}\n",
    "    \\eta = A \\alpha \\tau_1 + A(1-\\alpha)\\tau_2\n",
    "\\end{equation}"
   ]
  },
  {
   "cell_type": "code",
   "execution_count": null,
   "metadata": {
    "scrolled": false,
    "slideshow": {
     "slide_type": "slide"
    }
   },
   "outputs": [],
   "source": [
    "visc_final = popt3[0]*popt3[1]*popt3[2]+popt3[0]*(1-popt3[1])*popt3[3]\n",
    "print('viscosity: {0:.5f}'.format(visc_final) + ' cP')"
   ]
  },
  {
   "cell_type": "markdown",
   "metadata": {
    "slideshow": {
     "slide_type": "slide"
    }
   },
   "source": [
    "Para verificar se estamos no caminho certo, compararemos a viscosidade calculada, sob as mesmas condições, por experimentos laboratoriais (não por simulações)."
   ]
  },
  {
   "cell_type": "markdown",
   "metadata": {
    "slideshow": {
     "slide_type": "fragment"
    }
   },
   "source": [
    "A viscosidade experimental é $(115\\pm 29)$\n",
    "\n",
    "*Referência: Florindo et al, Chem. Comm., 2018*"
   ]
  },
  {
   "cell_type": "code",
   "execution_count": null,
   "metadata": {
    "slideshow": {
     "slide_type": "fragment"
    }
   },
   "outputs": [],
   "source": [
    "#experimental viscosity\n",
    "visc_exp = 115\n",
    "tol = 29"
   ]
  },
  {
   "cell_type": "code",
   "execution_count": null,
   "metadata": {
    "slideshow": {
     "slide_type": "slide"
    }
   },
   "outputs": [],
   "source": [
    "plt.figure(figsize=(10,5))\n",
    "#plt.plot(ts[:cut]*1e+9,visc[:cut],'o',label='Real Viscosity')\n",
    "\n",
    "plt.plot(ts[:cut],doubexp(ts[:cut],*popt3),label='Fitting Viscosity')\n",
    "plt.plot(ts[:cut],visc_final*np.ones_like(visc[:cut]),label='Calculated Viscosity = {:.1f} cP'.format(visc_final))\n",
    "plt.plot(ts[:cut],  visc_exp*np.ones_like(visc[:cut]),label='Experimental Viscosity = ({}$\\pm${}) cP'.format(visc_exp,tol))\n",
    "plt.fill_between(ts[:cut], (visc_exp - tol)*np.ones_like(visc[:cut]), (visc_exp + tol)*np.ones_like(visc[:cut]), color='0.85')\n",
    "\n",
    "plt.grid()\n",
    "plt.title('NaC12C10 = 1.0')\n",
    "plt.xlabel('Tempo (ns)')\n",
    "plt.ylabel('\\u03B7 (cP)')\n",
    "plt.legend()\n",
    "plt.show()"
   ]
  },
  {
   "cell_type": "markdown",
   "metadata": {
    "slideshow": {
     "slide_type": "slide"
    }
   },
   "source": [
    "##### Conclusão:\n",
    "Finalmente, "
   ]
  },
  {
   "cell_type": "code",
   "execution_count": null,
   "metadata": {
    "slideshow": {
     "slide_type": "slide"
    }
   },
   "outputs": [],
   "source": [
    "plt.figure(figsize=(18,10))\n",
    "\n",
    "plt.grid()\n",
    "#plt.plot(ts[:cut],visc[:cut],'o',label='Real Viscosity')\n",
    "plt.plot(ts[:cut],doubexp(ts[:cut],*popt3),label='Viscosidade Ajustada')\n",
    "plt.plot(ts[:cut],visc_final*np.ones_like(visc[:cut]),label='Viscosidade Calculada = {:.1f} cP'.format(visc_final),color='g')\n",
    "\n",
    "plt.plot(ts[:cut],  visc_exp*np.ones_like(visc[:cut]),label='Viscosidade Experimental = ({}$\\pm${}) cP'.format(visc_exp,tol),color='r')\n",
    "\n",
    "\n",
    "for i in range(len(Ns)):\n",
    "    plt.plot(ts[:cut],Ns[i][:cut],label='Trajetória {}'.format(trajs[i]))\n",
    "\n",
    "plt.plot(ts[:cut],Ns_average[:cut], 'black',label='Média das Trajetórias')\n",
    "plt.fill_between(ts[:cut], Ns_average[:cut] - st_des[:cut], Ns_average[:cut] + st_des[:cut], color='0.85')\n",
    "\n",
    "\n",
    "plt.title('NaC12C10 = 1.0', fontsize=18)\n",
    "plt.xlabel('Tempo (ns)',fontsize=20)\n",
    "plt.ylabel('\\u03B7 (cP)',fontsize=20)\n",
    "plt.legend(prop={'size':16})\n",
    "plt.show()"
   ]
  },
  {
   "cell_type": "markdown",
   "metadata": {
    "slideshow": {
     "slide_type": "slide"
    }
   },
   "source": [
    "Repare que esses são os resultados se seguirmos a recomendação do autor do artigo de usar uma tolerância de desvio padrão de $40\\%$, mas o desvio padrão máximo das nossas trajetórias é menor que $30\\%$, então talvez possamos conseguir resultados melhores se diminuirmos essa tolerância.\n",
    "\n",
    "Vamos esperimentar o quanto a diferença entre a viscosidade calculada e a viscosidade experimental mudam conforme variamos a tolerância."
   ]
  },
  {
   "cell_type": "markdown",
   "metadata": {
    "slideshow": {
     "slide_type": "slide"
    }
   },
   "source": [
    "#### Variação da Viscosidade Calculada e do erro conforme a variação da tolerância do desvio padrão\n",
    "\n"
   ]
  },
  {
   "cell_type": "code",
   "execution_count": null,
   "metadata": {
    "slideshow": {
     "slide_type": "fragment"
    }
   },
   "outputs": [],
   "source": [
    "tcuts = []\n",
    "viscs_finais = []\n",
    "popt3s = []\n",
    "sigmas = np.array(range(0,101))/100\n",
    "print('Calculating for:')\n",
    "for sigma in sigmas:\n",
    "    print('\\tsigma = {}%'.format(sigma*100))\n",
    "    cut = time_cut(Ns_average, st_des, tol_std_perc=sigma)\n",
    "    tcuts.append(cut)\n",
    "    \n",
    "    try:\n",
    "        popt3,pcov2 = curve_fit(doubexp, ts[1:cut],visc[1:cut],\n",
    "                                sigma=st_des[1:cut],\n",
    "                                bounds=(0,[np.inf,1,np.inf,np.inf]),maxfev=1000000)\n",
    "        visc_final = popt3[0]*popt3[1]*popt3[2]+popt3[0]*(1-popt3[1])*popt3[3]\n",
    "        \n",
    "        popt3s.append(popt3)\n",
    "        viscs_finais.append(visc_final)\n",
    "    except:\n",
    "        viscs_finais.append(0)\n",
    "    \n",
    "\n",
    "popt3s = np.array(popt3s)\n",
    "viscs_finais = np.array(viscs_finais)\n",
    "tcuts = np.array(tcuts)"
   ]
  },
  {
   "cell_type": "code",
   "execution_count": null,
   "metadata": {
    "slideshow": {
     "slide_type": "slide"
    }
   },
   "outputs": [],
   "source": [
    "plt.plot(sigmas,tcuts)\n",
    "plt.xlabel('Desvio padrão(%)')\n",
    "plt.ylabel('t_cut')\n",
    "plt.show()"
   ]
  },
  {
   "cell_type": "markdown",
   "metadata": {
    "slideshow": {
     "slide_type": "slide"
    }
   },
   "source": [
    "Repare que após o valor do sigma ultrapassar o valor máximo do desvio padrão dessa amostra, ele passa a usar todos os pontos disponíveis, e o $t_{cut}$ passa a ser o ponto final."
   ]
  },
  {
   "cell_type": "code",
   "execution_count": null,
   "metadata": {
    "slideshow": {
     "slide_type": "fragment"
    }
   },
   "outputs": [],
   "source": [
    "plt.plot(sigmas,viscs_finais,'o')\n",
    "plt.title('Viscosidade calculada de acordo com a tolerância do desvio padrão')\n",
    "plt.xlabel('Desvio Padrão (%)')\n",
    "plt.ylabel('Viscosidade Calculada')\n",
    "plt.show()"
   ]
  },
  {
   "cell_type": "markdown",
   "metadata": {
    "slideshow": {
     "slide_type": "slide"
    }
   },
   "source": [
    "Afim de evitar outliers, se menos de $5\\%$ dos pontos estiverem a mais de duas vezes o desvião padrão, serão considerados outliers."
   ]
  },
  {
   "cell_type": "code",
   "execution_count": null,
   "metadata": {
    "slideshow": {
     "slide_type": "fragment"
    }
   },
   "outputs": [],
   "source": [
    "def exist_outliers(data, tol=0.05):\n",
    "    average = np.average(data)\n",
    "    std = np.std(data)\n",
    "    n = len(data)\n",
    "    out = 0\n",
    "    \n",
    "    for e in data:\n",
    "        if abs(e-average) > 2*std:\n",
    "            out+=1\n",
    "    if out/n <= tol:\n",
    "        return True\n",
    "    else: \n",
    "        return False\n",
    "    \n",
    "def index_outliers(data,tol=0.05):\n",
    "    data = np.array(data)\n",
    "    average = np.average(data)\n",
    "    std = np.std(data)\n",
    "    n = len(data)\n",
    "    index = []\n",
    "    \n",
    "    for i in range(len(data)):\n",
    "        if abs(data[i]-average) >= 2*std:\n",
    "            index.append(i)\n",
    "    \n",
    "    return np.array(index)"
   ]
  },
  {
   "cell_type": "code",
   "execution_count": null,
   "metadata": {
    "slideshow": {
     "slide_type": "slide"
    }
   },
   "outputs": [],
   "source": [
    "exist_outliers(viscs_finais)"
   ]
  },
  {
   "cell_type": "code",
   "execution_count": null,
   "metadata": {
    "slideshow": {
     "slide_type": "fragment"
    }
   },
   "outputs": [],
   "source": [
    "index_outliers(viscs_finais)"
   ]
  },
  {
   "cell_type": "code",
   "execution_count": null,
   "metadata": {
    "slideshow": {
     "slide_type": "fragment"
    }
   },
   "outputs": [],
   "source": [
    "while exist_outliers(viscs_finais):\n",
    "    index_out = index_outliers(viscs_finais)\n",
    "    viscs_finais = np.delete(viscs_finais,index_out)\n",
    "    sigmas = np.delete(sigmas,index_out)"
   ]
  },
  {
   "cell_type": "code",
   "execution_count": null,
   "metadata": {
    "slideshow": {
     "slide_type": "slide"
    }
   },
   "outputs": [],
   "source": [
    "plt.plot(sigmas,viscs_finais,'o')\n",
    "plt.title('Viscosidade calculada de acordo com a tolerância do desvio padrão')\n",
    "plt.xlabel('Desvio Padrão (%)')\n",
    "plt.ylabel('Viscosidade Calculada')\n",
    "plt.show()"
   ]
  },
  {
   "cell_type": "code",
   "execution_count": null,
   "metadata": {
    "slideshow": {
     "slide_type": "fragment"
    }
   },
   "outputs": [],
   "source": [
    "err = viscs_finais - visc_exp\n",
    "err"
   ]
  },
  {
   "cell_type": "code",
   "execution_count": null,
   "metadata": {
    "slideshow": {
     "slide_type": "fragment"
    }
   },
   "outputs": [],
   "source": [
    "plt.plot(sigmas,err)\n",
    "plt.show()"
   ]
  },
  {
   "cell_type": "code",
   "execution_count": null,
   "metadata": {
    "slideshow": {
     "slide_type": "slide"
    }
   },
   "outputs": [],
   "source": [
    "plt.plot(sigmas,err)\n",
    "plt.show()"
   ]
  },
  {
   "cell_type": "code",
   "execution_count": null,
   "metadata": {
    "slideshow": {
     "slide_type": "fragment"
    }
   },
   "outputs": [],
   "source": [
    "plt.plot(sigmas,abs(err))\n",
    "plt.show()"
   ]
  },
  {
   "cell_type": "code",
   "execution_count": null,
   "metadata": {
    "slideshow": {
     "slide_type": "fragment"
    }
   },
   "outputs": [],
   "source": [
    "mini=min(abs(err))\n",
    "opt, = np.where(abs(err)==mini)[0]\n",
    "print('O sigma de menor erro é com o desvio padrão de {}%.'.format(sigmas[opt]*100))"
   ]
  },
  {
   "cell_type": "code",
   "execution_count": null,
   "metadata": {
    "slideshow": {
     "slide_type": "fragment"
    }
   },
   "outputs": [],
   "source": [
    "opt"
   ]
  },
  {
   "cell_type": "code",
   "execution_count": null,
   "metadata": {
    "scrolled": true,
    "slideshow": {
     "slide_type": "slide"
    }
   },
   "outputs": [],
   "source": [
    "plt.plot(sigmas[5:],abs(err[5:]))\n",
    "plt.plot(sigmas[opt],abs(err[opt]),'o')"
   ]
  },
  {
   "cell_type": "markdown",
   "metadata": {
    "slideshow": {
     "slide_type": "slide"
    }
   },
   "source": [
    "##### Conclusão Otimizada\n",
    "\n",
    "Portanto, após todo esse processo, a viscosidade que chegamos é "
   ]
  },
  {
   "cell_type": "code",
   "execution_count": null,
   "metadata": {
    "slideshow": {
     "slide_type": "fragment"
    }
   },
   "outputs": [],
   "source": [
    "viscs_finais[opt]"
   ]
  },
  {
   "cell_type": "markdown",
   "metadata": {
    "slideshow": {
     "slide_type": "fragment"
    }
   },
   "source": [
    "Com um erro de"
   ]
  },
  {
   "cell_type": "code",
   "execution_count": null,
   "metadata": {
    "slideshow": {
     "slide_type": "fragment"
    }
   },
   "outputs": [],
   "source": [
    "err[opt]"
   ]
  },
  {
   "cell_type": "code",
   "execution_count": null,
   "metadata": {
    "slideshow": {
     "slide_type": "slide"
    }
   },
   "outputs": [],
   "source": [
    "plt.figure(figsize=(10,5))\n",
    "#plt.plot(ts[:cut]*1e+9,visc[:cut],'o',label='Real Viscosity')\n",
    "\n",
    "plt.plot(ts[:tcuts[opt]],doubexp(ts[:tcuts[opt]],*popt3s[opt]),label='Fitting Viscosity')\n",
    "plt.plot(ts[:tcuts[opt]],viscs_finais[opt]*np.ones_like(visc[:tcuts[opt]]),label='Calculated Viscosity = {:.1f} cP'.format(viscs_finais[opt]))\n",
    "plt.plot(ts[:tcuts[opt]],  visc_exp*np.ones_like(visc[:tcuts[opt]]),label='Experimental Viscosity = ({}$\\pm${}) cP'.format(visc_exp,tol))\n",
    "plt.fill_between(ts[:tcuts[opt]], (visc_exp - tol)*np.ones_like(visc[:tcuts[opt]]), (visc_exp + tol)*np.ones_like(visc[:tcuts[opt]]), color='0.85')\n",
    "\n",
    "plt.grid()\n",
    "plt.title('NaC12C10 = 1.0')\n",
    "plt.xlabel('Tempo (trajs)')\n",
    "plt.ylabel('\\u03B7 (cP)')\n",
    "plt.legend()\n",
    "plt.show()"
   ]
  },
  {
   "cell_type": "code",
   "execution_count": null,
   "metadata": {
    "scrolled": false,
    "slideshow": {
     "slide_type": "slide"
    }
   },
   "outputs": [],
   "source": [
    "plt.figure(figsize=(18,10))\n",
    "\n",
    "plt.grid()\n",
    "#plt.plot(ts[:cut],visc[:cut],'o',label='Real Viscosity')\n",
    "plt.plot(ts[:tcuts[opt]],doubexp(ts[:tcuts[opt]],*popt3s[opt]),label='Fitting Viscosity')\n",
    "plt.plot(ts[:tcuts[opt]],viscs_finais[opt]*np.ones_like(visc[:tcuts[opt]]),label='Calculated Viscosity = {:.1f} cP'.format(viscs_finais[opt]))\n",
    "plt.plot(ts[:tcuts[opt]],  visc_exp*np.ones_like(visc[:tcuts[opt]]),label='Experimental Viscosity = ({}$\\pm${}) cP'.format(visc_exp,tol))\n",
    "\n",
    "for i in range(len(Ns)):\n",
    "    plt.plot(ts[:tcuts[opt]],Ns[i][:tcuts[opt]],label='Trajetória {}'.format(trajs[i]))\n",
    "\n",
    "plt.plot(ts[:tcuts[opt]],Ns_average[:tcuts[opt]], 'black',label='Média das Trajetórias')\n",
    "plt.fill_between(ts[:tcuts[opt]], Ns_average[:tcuts[opt]] - st_des[:tcuts[opt]], Ns_average[:tcuts[opt]] + st_des[:tcuts[opt]], color='0.85')\n",
    "\n",
    "\n",
    "plt.title('NaC12C10 = 1.0', fontsize=18)\n",
    "plt.xlabel('Tempo (trajs)',fontsize=20)\n",
    "plt.ylabel('\\u03B7 (cP)',fontsize=20)\n",
    "plt.legend(prop={'size':16})\n",
    "plt.show()"
   ]
  },
  {
   "cell_type": "code",
   "execution_count": null,
   "metadata": {
    "slideshow": {
     "slide_type": "skip"
    }
   },
   "outputs": [],
   "source": [
    "!jupyter nbconvert Calculo_da_Viscosidade.ipynb --to slides --SlidesExporter.reveal_scroll=True --SlidesExporter.reveal_scroll=True"
   ]
  }
 ],
 "metadata": {
  "celltoolbar": "Slideshow",
  "kernelspec": {
   "display_name": "Python 3",
   "language": "python",
   "name": "python3"
  },
  "language_info": {
   "codemirror_mode": {
    "name": "ipython",
    "version": 3
   },
   "file_extension": ".py",
   "mimetype": "text/x-python",
   "name": "python",
   "nbconvert_exporter": "python",
   "pygments_lexer": "ipython3",
   "version": "3.7.3"
  }
 },
 "nbformat": 4,
 "nbformat_minor": 2
}
